{
 "cells": [
  {
   "cell_type": "code",
   "execution_count": 1,
   "metadata": {},
   "outputs": [],
   "source": [
    "import os\n"
   ]
  },
  {
   "cell_type": "code",
   "execution_count": 2,
   "metadata": {},
   "outputs": [
    {
     "data": {
      "text/plain": [
       "'d:\\\\Text-Summarizer\\\\research'"
      ]
     },
     "execution_count": 2,
     "metadata": {},
     "output_type": "execute_result"
    }
   ],
   "source": [
    "%pwd\n"
   ]
  },
  {
   "cell_type": "code",
   "execution_count": 3,
   "metadata": {},
   "outputs": [],
   "source": [
    "os.chdir('../')"
   ]
  },
  {
   "cell_type": "code",
   "execution_count": 4,
   "metadata": {},
   "outputs": [
    {
     "data": {
      "text/plain": [
       "'d:\\\\Text-Summarizer'"
      ]
     },
     "execution_count": 4,
     "metadata": {},
     "output_type": "execute_result"
    }
   ],
   "source": [
    "%pwd"
   ]
  },
  {
   "cell_type": "code",
   "execution_count": 7,
   "metadata": {},
   "outputs": [],
   "source": [
    "from dataclasses import dataclass\n",
    "from pathlib import Path\n",
    "\n",
    "@dataclass(frozen=True)\n",
    "class dataTransformationConfig:\n",
    "    rootDir: Path\n",
    "    dataPath: Path\n",
    "    tokenizerName: Path\n"
   ]
  },
  {
   "cell_type": "code",
   "execution_count": 6,
   "metadata": {},
   "outputs": [],
   "source": [
    "from textSummarizer.utils.common import read_yaml,createDir\n",
    "from textSummarizer.constants import configFilePath,paramsFilePath"
   ]
  },
  {
   "cell_type": "code",
   "execution_count": 9,
   "metadata": {},
   "outputs": [],
   "source": [
    "from logging import config\n",
    "\n",
    "\n",
    "class configurationManager:\n",
    "    def __init__(\n",
    "        self,\n",
    "        config_FilePath = configFilePath,\n",
    "        params_FilePath = paramsFilePath):\n",
    "        \n",
    "        self.config = read_yaml(config_FilePath)\n",
    "        self.params = read_yaml(params_FilePath)\n",
    "        \n",
    "        createDir([self.config.artifacts_root])\n",
    "    \n",
    "    # def getDataIngestionConfig(self) -> dataIngestionConfig:\n",
    "    #     config = self.config.data_ingestion\n",
    "    #     createDir([config.root_dir])\n",
    "        \n",
    "    #     data_ingestion_config = dataIngestionConfig(\n",
    "    #         root_dir=config.root_dir,\n",
    "    #         source_url=config.source_url,\n",
    "    #         local_data_file=config.local_data_file,\n",
    "    #         unzip_dir=config.unzip_dir\n",
    "    #     )\n",
    "    #     return data_ingestion_config\n",
    "\n",
    "    # def getDataValidationConfig(self)->dataValidationConfig:\n",
    "    #     config = self.config.dataValidation\n",
    "    #     createDir([config.rootDir])\n",
    "        \n",
    "    #     datavalidationconfig = dataValidationConfig(\n",
    "    #         rootDir=config.rootDir,\n",
    "    #         statusFile=config.statusFile,\n",
    "    #         allRequiredFiles=config.allRequiredFiles\n",
    "    #     )\n",
    "    #     return datavalidationconfig\n",
    "    \n",
    "    def getDataTransformationConfig(self)->dataTransformationConfig:\n",
    "        config = self.config.dataTransformation\n",
    "        createDir([config.rootDir])\n",
    "        \n",
    "        datatransformationconfig = dataTransformationConfig(\n",
    "            rootDir=config.rootDir,\n",
    "            dataPath=config.dataPath,\n",
    "            tokenizerName=config.tokenizerName\n",
    "        )\n",
    "        return datatransformationconfig"
   ]
  },
  {
   "cell_type": "code",
   "execution_count": 11,
   "metadata": {},
   "outputs": [],
   "source": [
    "import os\n",
    "from textSummarizer.logging import logger\n",
    "from transformers import AutoTokenizer\n",
    "from datasets import load_dataset,load_from_disk"
   ]
  },
  {
   "cell_type": "code",
   "execution_count": 12,
   "metadata": {},
   "outputs": [],
   "source": [
    "class dataTransformation:\n",
    "    def __init__(self,config:dataTransformationConfig) -> None:\n",
    "        self.config = config\n",
    "        self.tokenizer = AutoTokenizer.from_pretrained(config.tokenizerName)\n",
    "        \n",
    "    def convertToFeatures(self,exampleBatch):\n",
    "        inputEncoding = self.tokenizer(exampleBatch['dialogue'],max_length=1024,truncation=True)\n",
    "        \n",
    "        with self.tokenizer.as_target_tokenizer():\n",
    "            targetEncoding = self.tokenizer(exampleBatch['summary'],max_length=128,truncation=True)\n",
    "        return {\n",
    "            'input_ids':inputEncoding['input_ids'],\n",
    "            'attention_mask': inputEncoding['attention_mask'],\n",
    "            'labels':targetEncoding['input_ids']\n",
    "        }\n",
    "    \n",
    "    def convert(self):\n",
    "        dataset_samsum = load_from_disk(self.config.dataPath)\n",
    "        dataset_samsum_pt = dataset_samsum.map(self.convertToFeatures,batched=True)\n",
    "        dataset_samsum_pt.save_to_disk(os.path.join(self.config.rootDir,'samsumDataset'))\n",
    "        "
   ]
  },
  {
   "cell_type": "code",
   "execution_count": 13,
   "metadata": {},
   "outputs": [
    {
     "name": "stdout",
     "output_type": "stream",
     "text": [
      "[2024-08-20 18:31:10,592: INFO: common: yaml file: config\\config.yaml loaded successfully]\n",
      "[2024-08-20 18:31:10,611: INFO: common: yaml file: params.yaml loaded successfully]\n",
      "[2024-08-20 18:31:10,614: INFO: common: Created director at: artifacts]\n",
      "[2024-08-20 18:31:10,620: INFO: common: Created director at: artifacts/data_transformation]\n"
     ]
    },
    {
     "name": "stderr",
     "output_type": "stream",
     "text": [
      "c:\\ProgramData\\anaconda3\\envs\\myenv\\Lib\\site-packages\\huggingface_hub\\file_download.py:159: UserWarning: `huggingface_hub` cache-system uses symlinks by default to efficiently store duplicated files but your machine does not support them in C:\\Users\\Appsb\\.cache\\huggingface\\hub\\models--google--pegasus-cnn_dailymail. Caching files will still work but in a degraded version that might require more space on your disk. This warning can be disabled by setting the `HF_HUB_DISABLE_SYMLINKS_WARNING` environment variable. For more details, see https://huggingface.co/docs/huggingface_hub/how-to-cache#limitations.\n",
      "To support symlinks on Windows, you either need to activate Developer Mode or to run Python as an administrator. In order to see activate developer mode, see this article: https://docs.microsoft.com/en-us/windows/apps/get-started/enable-your-device-for-development\n",
      "  warnings.warn(message)\n",
      "c:\\ProgramData\\anaconda3\\envs\\myenv\\Lib\\site-packages\\transformers\\tokenization_utils_base.py:1601: FutureWarning: `clean_up_tokenization_spaces` was not set. It will be set to `True` by default. This behavior will be depracted in transformers v4.45, and will be then set to `False` by default. For more details check this issue: https://github.com/huggingface/transformers/issues/31884\n",
      "  warnings.warn(\n",
      "Map:   0%|          | 0/14732 [00:00<?, ? examples/s]c:\\ProgramData\\anaconda3\\envs\\myenv\\Lib\\site-packages\\transformers\\tokenization_utils_base.py:4126: UserWarning: `as_target_tokenizer` is deprecated and will be removed in v5 of Transformers. You can tokenize your labels by using the argument `text_target` of the regular `__call__` method (either in the same call as your input texts if you use the same keyword arguments, or in a separate call.\n",
      "  warnings.warn(\n",
      "Map: 100%|██████████| 14732/14732 [00:26<00:00, 565.00 examples/s]\n",
      "Map: 100%|██████████| 819/819 [00:01<00:00, 739.51 examples/s]\n",
      "Map: 100%|██████████| 818/818 [00:01<00:00, 760.73 examples/s]\n",
      "Saving the dataset (1/1 shards): 100%|██████████| 14732/14732 [00:00<00:00, 42928.01 examples/s]\n",
      "Saving the dataset (1/1 shards): 100%|██████████| 819/819 [00:00<00:00, 22360.96 examples/s]\n",
      "Saving the dataset (1/1 shards): 100%|██████████| 818/818 [00:00<00:00, 19453.20 examples/s]\n"
     ]
    }
   ],
   "source": [
    "try:\n",
    "    config = configurationManager()\n",
    "    data_validation_config = config.getDataTransformationConfig()\n",
    "    data_validation = dataTransformation(config=data_validation_config)\n",
    "    data_validation.convert()\n",
    "except Exception as e:\n",
    "    raise e"
   ]
  },
  {
   "cell_type": "code",
   "execution_count": null,
   "metadata": {},
   "outputs": [],
   "source": []
  }
 ],
 "metadata": {
  "kernelspec": {
   "display_name": "myenv",
   "language": "python",
   "name": "python3"
  },
  "language_info": {
   "codemirror_mode": {
    "name": "ipython",
    "version": 3
   },
   "file_extension": ".py",
   "mimetype": "text/x-python",
   "name": "python",
   "nbconvert_exporter": "python",
   "pygments_lexer": "ipython3",
   "version": "3.12.4"
  }
 },
 "nbformat": 4,
 "nbformat_minor": 2
}
