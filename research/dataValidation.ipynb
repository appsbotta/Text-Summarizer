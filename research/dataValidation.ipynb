{
 "cells": [
  {
   "cell_type": "code",
   "execution_count": 1,
   "metadata": {},
   "outputs": [],
   "source": [
    "import os"
   ]
  },
  {
   "cell_type": "code",
   "execution_count": 2,
   "metadata": {},
   "outputs": [
    {
     "data": {
      "text/plain": [
       "'d:\\\\Text-Summarizer\\\\research'"
      ]
     },
     "execution_count": 2,
     "metadata": {},
     "output_type": "execute_result"
    }
   ],
   "source": [
    "%pwd"
   ]
  },
  {
   "cell_type": "code",
   "execution_count": 3,
   "metadata": {},
   "outputs": [],
   "source": [
    "os.chdir(\"../\")"
   ]
  },
  {
   "cell_type": "code",
   "execution_count": 4,
   "metadata": {},
   "outputs": [
    {
     "data": {
      "text/plain": [
       "'d:\\\\Text-Summarizer'"
      ]
     },
     "execution_count": 4,
     "metadata": {},
     "output_type": "execute_result"
    }
   ],
   "source": [
    "%pwd"
   ]
  },
  {
   "cell_type": "code",
   "execution_count": 9,
   "metadata": {},
   "outputs": [],
   "source": [
    "from dataclasses import dataclass\n",
    "from pathlib import Path\n",
    "\n",
    "@dataclass(frozen=True)\n",
    "class dataValidationConfig:\n",
    "    rootDir:Path\n",
    "    statusFile: str\n",
    "    allRequiredFiles:list    "
   ]
  },
  {
   "cell_type": "code",
   "execution_count": 10,
   "metadata": {},
   "outputs": [],
   "source": [
    "from textSummarizer.utils.common import read_yaml,createDir\n",
    "from textSummarizer.constants import configFilePath,paramsFilePath"
   ]
  },
  {
   "cell_type": "code",
   "execution_count": 11,
   "metadata": {},
   "outputs": [],
   "source": [
    "class configurationManager:\n",
    "    def __init__(\n",
    "        self,\n",
    "        config_FilePath = configFilePath,\n",
    "        params_FilePath = paramsFilePath):\n",
    "        \n",
    "        self.config = read_yaml(config_FilePath)\n",
    "        self.params = read_yaml(params_FilePath)\n",
    "        \n",
    "        createDir([self.config.artifacts_root])\n",
    "    \n",
    "    # def getDataIngestionConfig(self) -> dataIngestionConfig:\n",
    "    #     config = self.config.data_ingestion\n",
    "    #     createDir([config.root_dir])\n",
    "        \n",
    "    #     data_ingestion_config = dataIngestionConfig(\n",
    "    #         root_dir=config.root_dir,\n",
    "    #         source_url=config.source_url,\n",
    "    #         local_data_file=config.local_data_file,\n",
    "    #         unzip_dir=config.unzip_dir\n",
    "    #     )\n",
    "    #     return data_ingestion_config\n",
    "\n",
    "    def getDataValidationConfig(self)->dataValidationConfig:\n",
    "        config = self.config.dataValidation\n",
    "        createDir([config.rootDir])\n",
    "        \n",
    "        datavalidationconfig = dataValidationConfig(\n",
    "            rootDir=config.rootDir,\n",
    "            statusFile=config.statusFile,\n",
    "            allRequiredFiles=config.allRequiredFiles\n",
    "        )\n",
    "        return datavalidationconfig"
   ]
  },
  {
   "cell_type": "code",
   "execution_count": 12,
   "metadata": {},
   "outputs": [],
   "source": [
    "import os\n",
    "from textSummarizer.logging import logger"
   ]
  },
  {
   "cell_type": "code",
   "execution_count": 15,
   "metadata": {},
   "outputs": [],
   "source": [
    "class dataValidation:\n",
    "    def __init__(self,config:dataValidationConfig) -> None:\n",
    "        self.config = config\n",
    "    \n",
    "    def validateAllFiles(self)->bool:\n",
    "        try:\n",
    "            validateStatus = bool(None)\n",
    "            all_files = os.listdir(os.path.join(\"artifacts\",'data_ingestion','samsum_dataset'))\n",
    "            \n",
    "            for file in all_files:\n",
    "                if file not in self.config.allRequiredFiles:\n",
    "                    validateStatus = False\n",
    "                    with open(self.config.statusFile,'w') as f:\n",
    "                        f.write(f\"validation status : {validateStatus}\")\n",
    "                else:\n",
    "                    validateStatus = True\n",
    "                    with open(self.config.statusFile,'w') as f:\n",
    "                        f.write(f\"validation status : {validateStatus}\")\n",
    "            return validateStatus\n",
    "        except Exception as e:\n",
    "            raise e"
   ]
  },
  {
   "cell_type": "code",
   "execution_count": 16,
   "metadata": {},
   "outputs": [
    {
     "name": "stdout",
     "output_type": "stream",
     "text": [
      "[2024-08-17 21:17:44,976: INFO: common: yaml file: config\\config.yaml loaded successfully]\n",
      "[2024-08-17 21:17:44,983: INFO: common: yaml file: params.yaml loaded successfully]\n",
      "[2024-08-17 21:17:44,985: INFO: common: Created director at: artifacts]\n",
      "[2024-08-17 21:17:44,985: INFO: common: Created director at: artifacts/data_Validation]\n"
     ]
    }
   ],
   "source": [
    "try:\n",
    "    config = configurationManager()\n",
    "    data_validation_config = config.getDataValidationConfig()\n",
    "    data_validation = dataValidation(config=data_validation_config)\n",
    "    data_validation.validateAllFiles()\n",
    "except Exception as e:\n",
    "    raise e"
   ]
  },
  {
   "cell_type": "code",
   "execution_count": null,
   "metadata": {},
   "outputs": [],
   "source": []
  }
 ],
 "metadata": {
  "kernelspec": {
   "display_name": "myenv",
   "language": "python",
   "name": "python3"
  },
  "language_info": {
   "codemirror_mode": {
    "name": "ipython",
    "version": 3
   },
   "file_extension": ".py",
   "mimetype": "text/x-python",
   "name": "python",
   "nbconvert_exporter": "python",
   "pygments_lexer": "ipython3",
   "version": "3.12.4"
  }
 },
 "nbformat": 4,
 "nbformat_minor": 2
}
